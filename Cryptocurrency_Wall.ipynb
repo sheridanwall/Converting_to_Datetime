{
 "cells": [
  {
   "cell_type": "markdown",
   "metadata": {},
   "source": [
    "# Cryptocurrency prices\n",
    "\n",
    "* **Filename:**  `cryptocurrencies.csv`\n",
    "* **Description:** Cryptocurrency prices for a handful of coins over time.\n",
    "* **Source:** https://coinmarketcap.com/all/views/all/ but from a million years ago (I cut and pasted, honestly)\n",
    "\n",
    "### Make a chart of bitcoin's high, on a weekly basis\n",
    "\n",
    "You might want to do the cherry blossoms homework first, or at least read the part about `format=` and `pd.to_datetime`.\n",
    "\n",
    "*Yes, that's the entire assignment. It isn't an exciting dataset, but it's just dirty enough to make charting this a useful experience.*"
   ]
  },
  {
   "cell_type": "code",
   "execution_count": 1,
   "metadata": {},
   "outputs": [
    {
     "name": "stderr",
     "output_type": "stream",
     "text": [
      "/Users/sheridanwall/.pyenv/versions/3.8.2/lib/python3.8/site-packages/pandas/compat/__init__.py:120: UserWarning: Could not import the lzma module. Your installed Python is incomplete. Attempting to use lzma compression will result in a RuntimeError.\n",
      "  warnings.warn(msg)\n"
     ]
    }
   ],
   "source": [
    "import pandas as pd"
   ]
  },
  {
   "cell_type": "code",
   "execution_count": 2,
   "metadata": {},
   "outputs": [],
   "source": [
    "df = pd.read_csv(\"cryptocurrencies.csv\")"
   ]
  },
  {
   "cell_type": "code",
   "execution_count": 3,
   "metadata": {},
   "outputs": [
    {
     "data": {
      "text/html": [
       "<div>\n",
       "<style scoped>\n",
       "    .dataframe tbody tr th:only-of-type {\n",
       "        vertical-align: middle;\n",
       "    }\n",
       "\n",
       "    .dataframe tbody tr th {\n",
       "        vertical-align: top;\n",
       "    }\n",
       "\n",
       "    .dataframe thead th {\n",
       "        text-align: right;\n",
       "    }\n",
       "</style>\n",
       "<table border=\"1\" class=\"dataframe\">\n",
       "  <thead>\n",
       "    <tr style=\"text-align: right;\">\n",
       "      <th></th>\n",
       "      <th>date</th>\n",
       "      <th>open</th>\n",
       "      <th>high</th>\n",
       "      <th>low</th>\n",
       "      <th>close</th>\n",
       "      <th>volume</th>\n",
       "      <th>market_cap</th>\n",
       "      <th>coin</th>\n",
       "    </tr>\n",
       "  </thead>\n",
       "  <tbody>\n",
       "    <tr>\n",
       "      <th>0</th>\n",
       "      <td>12-Feb-18</td>\n",
       "      <td>8,141.43</td>\n",
       "      <td>8,985.92</td>\n",
       "      <td>8,141.43</td>\n",
       "      <td>8,926.57</td>\n",
       "      <td>6,256,440,000</td>\n",
       "      <td>137,258,000,000</td>\n",
       "      <td>BTC</td>\n",
       "    </tr>\n",
       "    <tr>\n",
       "      <th>1</th>\n",
       "      <td>11-Feb-18</td>\n",
       "      <td>8,616.13</td>\n",
       "      <td>8,616.13</td>\n",
       "      <td>7,931.10</td>\n",
       "      <td>8,129.97</td>\n",
       "      <td>6,122,190,000</td>\n",
       "      <td>145,245,000,000</td>\n",
       "      <td>BTC</td>\n",
       "    </tr>\n",
       "    <tr>\n",
       "      <th>2</th>\n",
       "      <td>10-Feb-18</td>\n",
       "      <td>8,720.08</td>\n",
       "      <td>9,122.55</td>\n",
       "      <td>8,295.47</td>\n",
       "      <td>8,621.90</td>\n",
       "      <td>7,780,960,000</td>\n",
       "      <td>146,981,000,000</td>\n",
       "      <td>BTC</td>\n",
       "    </tr>\n",
       "    <tr>\n",
       "      <th>3</th>\n",
       "      <td>9-Feb-18</td>\n",
       "      <td>8,271.84</td>\n",
       "      <td>8,736.98</td>\n",
       "      <td>7,884.71</td>\n",
       "      <td>8,736.98</td>\n",
       "      <td>6,784,820,000</td>\n",
       "      <td>139,412,000,000</td>\n",
       "      <td>BTC</td>\n",
       "    </tr>\n",
       "    <tr>\n",
       "      <th>4</th>\n",
       "      <td>8-Feb-18</td>\n",
       "      <td>7,637.86</td>\n",
       "      <td>8,558.77</td>\n",
       "      <td>7,637.86</td>\n",
       "      <td>8,265.59</td>\n",
       "      <td>9,346,750,000</td>\n",
       "      <td>128,714,000,000</td>\n",
       "      <td>BTC</td>\n",
       "    </tr>\n",
       "  </tbody>\n",
       "</table>\n",
       "</div>"
      ],
      "text/plain": [
       "        date      open      high       low     close         volume  \\\n",
       "0  12-Feb-18  8,141.43  8,985.92  8,141.43  8,926.57  6,256,440,000   \n",
       "1  11-Feb-18  8,616.13  8,616.13  7,931.10  8,129.97  6,122,190,000   \n",
       "2  10-Feb-18  8,720.08  9,122.55  8,295.47  8,621.90  7,780,960,000   \n",
       "3   9-Feb-18  8,271.84  8,736.98  7,884.71  8,736.98  6,784,820,000   \n",
       "4   8-Feb-18  7,637.86  8,558.77  7,637.86  8,265.59  9,346,750,000   \n",
       "\n",
       "        market_cap coin  \n",
       "0  137,258,000,000  BTC  \n",
       "1  145,245,000,000  BTC  \n",
       "2  146,981,000,000  BTC  \n",
       "3  139,412,000,000  BTC  \n",
       "4  128,714,000,000  BTC  "
      ]
     },
     "execution_count": 3,
     "metadata": {},
     "output_type": "execute_result"
    }
   ],
   "source": [
    "df.head()"
   ]
  },
  {
   "cell_type": "code",
   "execution_count": 20,
   "metadata": {},
   "outputs": [],
   "source": [
    "df['datetime'] = pd.to_datetime(df[\"date\"], format=\"%d-%b-%y\")"
   ]
  },
  {
   "cell_type": "code",
   "execution_count": 21,
   "metadata": {},
   "outputs": [
    {
     "data": {
      "text/html": [
       "<div>\n",
       "<style scoped>\n",
       "    .dataframe tbody tr th:only-of-type {\n",
       "        vertical-align: middle;\n",
       "    }\n",
       "\n",
       "    .dataframe tbody tr th {\n",
       "        vertical-align: top;\n",
       "    }\n",
       "\n",
       "    .dataframe thead th {\n",
       "        text-align: right;\n",
       "    }\n",
       "</style>\n",
       "<table border=\"1\" class=\"dataframe\">\n",
       "  <thead>\n",
       "    <tr style=\"text-align: right;\">\n",
       "      <th></th>\n",
       "      <th>date</th>\n",
       "      <th>open</th>\n",
       "      <th>high</th>\n",
       "      <th>low</th>\n",
       "      <th>close</th>\n",
       "      <th>volume</th>\n",
       "      <th>market_cap</th>\n",
       "      <th>coin</th>\n",
       "      <th>datetime</th>\n",
       "    </tr>\n",
       "  </thead>\n",
       "  <tbody>\n",
       "    <tr>\n",
       "      <th>0</th>\n",
       "      <td>12-Feb-18</td>\n",
       "      <td>8,141.43</td>\n",
       "      <td>8,985.92</td>\n",
       "      <td>8,141.43</td>\n",
       "      <td>8,926.57</td>\n",
       "      <td>6,256,440,000</td>\n",
       "      <td>137,258,000,000</td>\n",
       "      <td>BTC</td>\n",
       "      <td>2018-02-12</td>\n",
       "    </tr>\n",
       "    <tr>\n",
       "      <th>1</th>\n",
       "      <td>11-Feb-18</td>\n",
       "      <td>8,616.13</td>\n",
       "      <td>8,616.13</td>\n",
       "      <td>7,931.10</td>\n",
       "      <td>8,129.97</td>\n",
       "      <td>6,122,190,000</td>\n",
       "      <td>145,245,000,000</td>\n",
       "      <td>BTC</td>\n",
       "      <td>2018-02-11</td>\n",
       "    </tr>\n",
       "    <tr>\n",
       "      <th>2</th>\n",
       "      <td>10-Feb-18</td>\n",
       "      <td>8,720.08</td>\n",
       "      <td>9,122.55</td>\n",
       "      <td>8,295.47</td>\n",
       "      <td>8,621.90</td>\n",
       "      <td>7,780,960,000</td>\n",
       "      <td>146,981,000,000</td>\n",
       "      <td>BTC</td>\n",
       "      <td>2018-02-10</td>\n",
       "    </tr>\n",
       "    <tr>\n",
       "      <th>3</th>\n",
       "      <td>9-Feb-18</td>\n",
       "      <td>8,271.84</td>\n",
       "      <td>8,736.98</td>\n",
       "      <td>7,884.71</td>\n",
       "      <td>8,736.98</td>\n",
       "      <td>6,784,820,000</td>\n",
       "      <td>139,412,000,000</td>\n",
       "      <td>BTC</td>\n",
       "      <td>2018-02-09</td>\n",
       "    </tr>\n",
       "    <tr>\n",
       "      <th>4</th>\n",
       "      <td>8-Feb-18</td>\n",
       "      <td>7,637.86</td>\n",
       "      <td>8,558.77</td>\n",
       "      <td>7,637.86</td>\n",
       "      <td>8,265.59</td>\n",
       "      <td>9,346,750,000</td>\n",
       "      <td>128,714,000,000</td>\n",
       "      <td>BTC</td>\n",
       "      <td>2018-02-08</td>\n",
       "    </tr>\n",
       "  </tbody>\n",
       "</table>\n",
       "</div>"
      ],
      "text/plain": [
       "        date      open      high       low     close         volume  \\\n",
       "0  12-Feb-18  8,141.43  8,985.92  8,141.43  8,926.57  6,256,440,000   \n",
       "1  11-Feb-18  8,616.13  8,616.13  7,931.10  8,129.97  6,122,190,000   \n",
       "2  10-Feb-18  8,720.08  9,122.55  8,295.47  8,621.90  7,780,960,000   \n",
       "3   9-Feb-18  8,271.84  8,736.98  7,884.71  8,736.98  6,784,820,000   \n",
       "4   8-Feb-18  7,637.86  8,558.77  7,637.86  8,265.59  9,346,750,000   \n",
       "\n",
       "        market_cap coin   datetime  \n",
       "0  137,258,000,000  BTC 2018-02-12  \n",
       "1  145,245,000,000  BTC 2018-02-11  \n",
       "2  146,981,000,000  BTC 2018-02-10  \n",
       "3  139,412,000,000  BTC 2018-02-09  \n",
       "4  128,714,000,000  BTC 2018-02-08  "
      ]
     },
     "execution_count": 21,
     "metadata": {},
     "output_type": "execute_result"
    }
   ],
   "source": [
    "df.head()"
   ]
  },
  {
   "cell_type": "code",
   "execution_count": 23,
   "metadata": {},
   "outputs": [
    {
     "data": {
      "text/plain": [
       "0       12\n",
       "1       11\n",
       "2       10\n",
       "3        9\n",
       "4        8\n",
       "        ..\n",
       "2260    17\n",
       "2261    16\n",
       "2262    15\n",
       "2263    14\n",
       "2264    13\n",
       "Name: datetime, Length: 2265, dtype: int64"
      ]
     },
     "execution_count": 23,
     "metadata": {},
     "output_type": "execute_result"
    }
   ],
   "source": [
    "df.datetime.dt.day"
   ]
  },
  {
   "cell_type": "code",
   "execution_count": 28,
   "metadata": {
    "scrolled": true
   },
   "outputs": [
    {
     "data": {
      "text/plain": [
       "datetime\n",
       "2017-02-19    1,002.1011.393.770.00633812.361,011.5113.333.7...\n",
       "2017-02-26    1,080.4912.93.780.00594913.011,117.2512.773.80...\n",
       "2017-03-05    1,181.9815.683.830.00569612.061,193.2516.063.8...\n",
       "2017-03-12    1,276.0020.13.930.00622115.81,275.5519.633.910...\n",
       "2017-03-19    1,237.3730.64.250.00642919.321,244.8129.934.17...\n",
       "2017-03-26    1,063.0346.234.050.00711224.821,122.4344.264.0...\n",
       "2017-04-02    1,046.4052.464.140.01005320.11,064.6550.964.18...\n",
       "2017-04-09    1,151.7448.828.640.06159421.161,156.4445.748.9...\n",
       "2017-04-16    1,190.3444.149.20.03509122.411,208.0744.259.28...\n",
       "2017-04-23    1,194.9048.7511.180.0340620.991,217.5751.0310....\n",
       "2017-04-30    1,250.9450.1814.970.03143620.111,267.5850.315....\n",
       "2017-05-07    1,434.3282.5216.370.05777924.071,473.9079.3516...\n",
       "2017-05-14    1,723.3595.1430.740.23758733.811,833.4993.0633...\n",
       "2017-05-21    1,812.8095.4328.930.2707228.541,785.9493.5625....\n",
       "2017-05-28    2,303.90201.7527.50.34541241.182,320.82183.553...\n",
       "2017-06-04    2,307.05197.1325.690.2428243.812,301.96233.712...\n",
       "2017-06-11    2,686.81249.4730.990.30239448.52,999.91267.513...\n",
       "2017-06-18    2,997.26414.7633.230.2832959.812,789.04411.183...\n",
       "2017-06-25    2,662.85377.1253.550.2960680.4209950.672,763.4...\n",
       "2017-07-02    2,615.25311.4644.350.301980.47366248.22,552.45...\n",
       "2017-07-09    2,595.00291.148.40.2623540.38495544.142,631.59...\n",
       "2017-07-16    2,537.16243.0750.530.2340670.30447645.122,413....\n",
       "2017-07-23    2,230.49194.7543.070.1796040.27808834.982,387....\n",
       "2017-07-30    2,777.26227.5444.810.1952790.27346845.762,768....\n",
       "2017-08-06    2,889.62203.8744.030.1695350.2598140.682,921.3...\n",
       "2017-08-13    3,397.68271.96373.8746.480.1818470.49102850.21...\n",
       "2017-08-20    4,325.13306.81327.3946.510.1800540.97640449.75...\n",
       "2017-08-27    4,109.14347.05756.5948.750.2056840.93916695.08...\n",
       "2017-09-03    4,403.93352.05626.8864.920.236260.927742154.58...\n",
       "2017-09-10    4,591.63347.13608.2676.730.2287810.744257126.2...\n",
       "2017-09-17    4,261.67300.69556.2567.230.2200570.558273116.2...\n",
       "2017-09-24    4,079.23293.5479.6955.610.1900190.612485102.02...\n",
       "2017-10-01    3,950.25293.52450.1352.440.1836650.56639594.23...\n",
       "2017-10-08    4,470.23302.92430.8654.780.2065560.6220993.84,...\n",
       "2017-10-15    4,878.71309.31342.7653.390.2787580.50190990.12...\n",
       "2017-10-22    5,776.23349.35318.0266.340.2913590.45961897.97...\n",
       "2017-10-29    6,075.59295.75332.2856.770.2039190.39923486.92...\n",
       "2017-11-05    6,214.99310.5478.4258.550.2041350.41557190.496...\n",
       "2017-11-12    7,445.77305.42657.3456.170.2086620.378777102.9...\n",
       "2017-11-19    6,811.19328.421,501.1662.760.2040810.652501136...\n",
       "2017-11-26    8,336.86372.141,236.0172.920.243430.992344140....\n",
       "2017-12-03    9,818.35493.411,742.4093.290.2547331.1173.3910...\n",
       "2017-12-10    11,657.20474.781,580.11104.240.2553622.98210.2...\n",
       "2017-12-17    17,513.90516.971,453.49225.290.2527774.58281.0...\n",
       "2017-12-24    19,371.00803.932,353.64360.930.7920144.36381.5...\n",
       "2017-12-31    14,593.00782.523,099.62286.791.133.81365.8716,...\n",
       "2018-01-07    14,112.20782.532,534.86236.632.394.36363.7915,...\n",
       "2018-01-14    16,537.901,266.932,810.32289.073.364.19469.711...\n",
       "2018-01-21    14,445.501,390.592,576.132451.93.76444.3413,84...\n",
       "2018-01-28    11,966.401,089.101,815.42195.251.432.9356.0411...\n",
       "2018-02-04    11,875.601,256.701,763.24194.391.412.58336.691...\n",
       "2018-02-11    8,364.84856.651,172.70153.520.8338661.77221.74...\n",
       "2018-02-18           8,985.92875.941,302.66163.351.111.91251.41\n",
       "Freq: W-SUN, Name: high, dtype: object"
      ]
     },
     "execution_count": 28,
     "metadata": {},
     "output_type": "execute_result"
    }
   ],
   "source": [
    "df.resample('W', on='datetime').high.sum()"
   ]
  },
  {
   "cell_type": "code",
   "execution_count": 33,
   "metadata": {},
   "outputs": [
    {
     "data": {
      "text/plain": [
       "date                  object\n",
       "open                  object\n",
       "high                  object\n",
       "low                   object\n",
       "close                 object\n",
       "volume                object\n",
       "market_cap            object\n",
       "coin                  object\n",
       "datetime      datetime64[ns]\n",
       "dtype: object"
      ]
     },
     "execution_count": 33,
     "metadata": {},
     "output_type": "execute_result"
    }
   ],
   "source": [
    "df.dtypes"
   ]
  },
  {
   "cell_type": "code",
   "execution_count": 34,
   "metadata": {},
   "outputs": [],
   "source": [
    "df['high'] = df.high.str.replace(',','')"
   ]
  },
  {
   "cell_type": "code",
   "execution_count": 37,
   "metadata": {},
   "outputs": [],
   "source": [
    "df['high'] = df.high.astype(float)"
   ]
  },
  {
   "cell_type": "code",
   "execution_count": 38,
   "metadata": {},
   "outputs": [
    {
     "data": {
      "text/plain": [
       "datetime\n",
       "2017-02-19      7436.083237\n",
       "2017-02-26      8250.851083\n",
       "2017-03-05      8937.782323\n",
       "2017-03-12      8944.815422\n",
       "2017-03-19      8830.586744\n",
       "2017-03-26      7911.993605\n",
       "2017-04-02      8044.609939\n",
       "2017-04-09      8740.948946\n",
       "2017-04-16      8938.013445\n",
       "2017-04-23      9148.071376\n",
       "2017-04-30      9837.361625\n",
       "2017-05-07     11805.421705\n",
       "2017-05-14     13823.137135\n",
       "2017-05-21     14797.025265\n",
       "2017-05-28     18927.073821\n",
       "2017-06-04     19141.265277\n",
       "2017-06-11     22865.860099\n",
       "2017-06-18     22356.031868\n",
       "2017-06-25     22312.897969\n",
       "2017-07-02     20745.252365\n",
       "2017-07-09     21228.886177\n",
       "2017-07-16     18566.026328\n",
       "2017-07-23     20695.781332\n",
       "2017-07-30     21428.998197\n",
       "2017-08-06     25308.551077\n",
       "2017-08-13     30866.295208\n",
       "2017-08-20     37401.012783\n",
       "2017-08-27     38500.680916\n",
       "2017-09-03     41491.838338\n",
       "2017-09-10     39492.055528\n",
       "2017-09-17     34506.340116\n",
       "2017-09-24     33892.115198\n",
       "2017-10-01     35732.829791\n",
       "2017-10-08     36991.493444\n",
       "2017-10-15     43315.475963\n",
       "2017-10-22     47029.838962\n",
       "2017-10-29     47711.541151\n",
       "2017-11-05     56591.126349\n",
       "2017-11-12     61747.896164\n",
       "2017-11-19     65969.292234\n",
       "2017-11-26     75299.902630\n",
       "2017-12-03     93134.566326\n",
       "2017-12-10    123936.398720\n",
       "2017-12-17    150004.526578\n",
       "2017-12-24    154952.974594\n",
       "2017-12-31    138837.450000\n",
       "2018-01-07    145281.630000\n",
       "2018-01-14    139296.620000\n",
       "2018-01-21    117383.380000\n",
       "2018-01-28    105385.890000\n",
       "2018-02-04     93011.298388\n",
       "2018-02-11     77168.916746\n",
       "2018-02-18     11582.300000\n",
       "Freq: W-SUN, Name: high, dtype: float64"
      ]
     },
     "execution_count": 38,
     "metadata": {},
     "output_type": "execute_result"
    }
   ],
   "source": [
    "df.resample('W', on='datetime').high.sum()"
   ]
  },
  {
   "cell_type": "code",
   "execution_count": 40,
   "metadata": {},
   "outputs": [
    {
     "data": {
      "text/plain": [
       "<AxesSubplot:xlabel='datetime'>"
      ]
     },
     "execution_count": 40,
     "metadata": {},
     "output_type": "execute_result"
    },
    {
     "data": {
      "image/png": "[encoded data removed]",
      "text/plain": [
       "<Figure size 432x288 with 1 Axes>"
      ]
     },
     "metadata": {
      "needs_background": "light"
     },
     "output_type": "display_data"
    }
   ],
   "source": [
    "df.resample('W', on='datetime').high.sum().plot()"
   ]
  }
 ],
 "metadata": {
  "kernelspec": {
   "display_name": "Python 3",
   "language": "python",
   "name": "python3"
  },
  "language_info": {
   "codemirror_mode": {
    "name": "ipython",
    "version": 3
   },
   "file_extension": ".py",
   "mimetype": "text/x-python",
   "name": "python",
   "nbconvert_exporter": "python",
   "pygments_lexer": "ipython3",
   "version": "3.8.2"
  }
 },
 "nbformat": 4,
 "nbformat_minor": 2
}
